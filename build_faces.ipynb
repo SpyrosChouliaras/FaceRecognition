{
 "cells": [
  {
   "cell_type": "code",
   "execution_count": 1,
   "metadata": {},
   "outputs": [],
   "source": [
    "import numpy as np\n",
    "import cv2\n",
    "import os \n",
    "from matplotlib import pyplot as plt\n",
    "%matplotlib inline\n",
    "from PIL import Image\n",
    "from IPython import display\n",
    "\n",
    "class VideoCamera(object):\n",
    "    def __init__(self,index=0):\n",
    "        self.video = cv2.VideoCapture(index)\n",
    "        self.index=index\n",
    "        print(self.video.isOpened())\n",
    "        \n",
    "    def __del__(self):\n",
    "        self.video.release()\n",
    "        \n",
    "    def get_frame(self,in_grayscale=False):\n",
    "        _,frame = self.video.read()\n",
    "        if in_grayscale:\n",
    "            frame = cv2.cvtColor(frame,cv2.COLOR_BGR2GRAY)\n",
    "        return frame  \n",
    "    \n",
    "def normalize_intensity(images):\n",
    "    images_norm = []\n",
    "    for image in images:\n",
    "        is_color = len(image.shape) == 3\n",
    "        if is_color:\n",
    "            image = cv2.cvtColor(image, cv2.COLOR_BGR2GRAY)\n",
    "        images_norm.append(cv2.equalizeHist(image))\n",
    "    return images_norm "
   ]
  },
  {
   "cell_type": "code",
   "execution_count": 2,
   "metadata": {},
   "outputs": [],
   "source": [
    "class FaceDetector(object):\n",
    "    def __init__(self, xml_path):\n",
    "        self.classifier = cv2.CascadeClassifier(xml_path)\n",
    "        \n",
    "    def detect(self, image ,biggest_only=True):\n",
    "        \n",
    "        faces_coord = self.classifier.detectMultiScaler(image,1.3,5)\n",
    "        return faces_coord"
   ]
  },
  {
   "cell_type": "code",
   "execution_count": 3,
   "metadata": {},
   "outputs": [],
   "source": [
    "def resize(images, size = (50,50)):\n",
    "    images_norm = []\n",
    "    for image in images:\n",
    "        if image.shape < size:\n",
    "            image_norm = cv2.resize(image,size,\n",
    "                                   interpolation = cv2.INTER_AREA)\n",
    "        else:\n",
    "            image_norm = cv2.resize(image,size,\n",
    "                                   interpolation = cv2.INTER_CUBIC)\n",
    "        images_norm.append(image_norm)\n",
    "    return images_norm    "
   ]
  },
  {
   "cell_type": "code",
   "execution_count": 4,
   "metadata": {},
   "outputs": [],
   "source": [
    "def cut_faces(image,faces_coord):\n",
    "    faces = []\n",
    "    \n",
    "    for (x,y,w,h) in faces_coord:\n",
    "        w_rm = int(0.2 * w/2)\n",
    "        faces.append(image[y: y+h,x + w_rm:x + w - w_rm])\n",
    "    return faces    "
   ]
  },
  {
   "cell_type": "code",
   "execution_count": null,
   "metadata": {},
   "outputs": [],
   "source": [
    "def normalize_faces(frame,faces_coord):\n",
    "    faces = cut_faces(frame,faces_coord)\n",
    "    faces = normalize_intensity(faces)\n",
    "    faces = resize(faces)\n",
    "    return faces\n",
    "\n",
    "def draw_rectangle(image, coords):\n",
    "    for ( x, y, w, h) in coords:\n",
    "        w_rm = int(0.2* w/2)\n",
    "        cv2.rectangle(image, (x + w_rm,y), (x+ w - w_rm,y+h),\n",
    "                             (150,150,0),8)\n",
    "        \n",
    "\n"
   ]
  },
  {
   "cell_type": "code",
   "execution_count": null,
   "metadata": {},
   "outputs": [
    {
     "name": "stdout",
     "output_type": "stream",
     "text": [
      "True\n",
      "Person: sd\n"
     ]
    }
   ],
   "source": [
    "detector = cv2.CascadeClassifier('/Users/spyroschouliaras/Downloads/frontalFace10/haarcascade_frontalface_default.xml')\n",
    "\n",
    "webcam = VideoCamera()\n",
    "folder = \"/users/spyroschouliaras/Desktop/people/\" + input('Person: ').lower()\n",
    "cv2.namedWindow(\"PyData Tutorial\",cv2.WINDOW_AUTOSIZE)\n",
    "if not os.path.exists(folder):\n",
    "    os.mkdir(folder)\n",
    "    counter =0\n",
    "    timer = 0\n",
    "    while counter < 10:\n",
    "        frame = webcam.get_frame()\n",
    "        faces_coord = detector.detectMultiScale(frame,1.3,5)\n",
    "        if len(faces_coord) and timer % 700 == 50:\n",
    "            faces = normalize_faces(frame, faces_coord)\n",
    "            cv2.imwrite(folder + '/' + str(counter) + '.jpg',faces[0])\n",
    "            plt.imshow(faces[0])\n",
    "            display.clear_output(wait = True)\n",
    "            counter +=1\n",
    "        draw_rectangle(frame,faces_coord)\n",
    "        cv2.imshow(\"Pydata Tutorial\",frame)\n",
    "        cv2.waitKey(50)\n",
    "        timer +=50\n",
    "    cv2.destroyAllWindows()\n",
    "else:\n",
    "    print(\"this name already exists\")"
   ]
  },
  {
   "cell_type": "code",
   "execution_count": null,
   "metadata": {},
   "outputs": [],
   "source": []
  }
 ],
 "metadata": {
  "kernelspec": {
   "display_name": "Python 3",
   "language": "python",
   "name": "python3"
  },
  "language_info": {
   "codemirror_mode": {
    "name": "ipython",
    "version": 3
   },
   "file_extension": ".py",
   "mimetype": "text/x-python",
   "name": "python",
   "nbconvert_exporter": "python",
   "pygments_lexer": "ipython3",
   "version": "3.7.2"
  }
 },
 "nbformat": 4,
 "nbformat_minor": 2
}
