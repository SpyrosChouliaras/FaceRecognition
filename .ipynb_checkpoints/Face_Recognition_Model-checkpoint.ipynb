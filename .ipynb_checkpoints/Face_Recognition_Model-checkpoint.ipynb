{
 "cells": [
  {
   "cell_type": "code",
   "execution_count": 1,
   "metadata": {},
   "outputs": [],
   "source": [
    "import numpy as np\n",
    "import cv2\n",
    "import os \n",
    "from matplotlib import pyplot as plt\n",
    "%matplotlib inline\n",
    "from PIL import Image\n",
    "from IPython import display\n",
    "import cv2.face\n",
    "\n",
    "class VideoCamera(object):\n",
    "    def __init__(self,index=0):\n",
    "        self.video = cv2.VideoCapture(index)\n",
    "        self.index=index\n",
    "        print(self.video.isOpened())\n",
    "        \n",
    "    def __del__(self):\n",
    "        self.video.release()\n",
    "        \n",
    "    def get_frame(self,in_grayscale=False):\n",
    "        _,frame = self.video.read()\n",
    "        if in_grayscale:\n",
    "            frame = cv2.cvtColor(frame,cv2.COLOR_BGR2GRAY)\n",
    "        return frame  \n",
    "    \n",
    "def normalize_intensity(images): \n",
    "    images_norm = []\n",
    "    for image in images:\n",
    "        is_color = len(image.shape) == 3\n",
    "        if is_color:\n",
    "            image = cv2.cvtColor(image, cv2.COLOR_BGR2GRAY)\n",
    "        images_norm.append(cv2.equalizeHist(image))\n",
    "    return images_norm"
   ]
  },
  {
   "cell_type": "code",
   "execution_count": 2,
   "metadata": {},
   "outputs": [],
   "source": [
    "class FaceDetector(object):\n",
    "    def __init__(self, xml_path):\n",
    "        self.classifier = cv2.CascadeClassifier(xml_path)\n",
    "        \n",
    "    def detect(self, image ,biggest_only=True):\n",
    "        \n",
    "        biggest_only=True\n",
    "        flags = cv2.CASCADE_FIND_BIGGEST_OBJECT | \\\n",
    "                    cv2.CASCADE_DO_ROUGH_SEARCH if biggest_only else \\\n",
    "                    cv.CASCADE_SCALE_IMAGE\n",
    "        faces_coord = self.classifier.detectMultiScaler(image,1.3,5,flags=flags)\n",
    "        return faces_coord"
   ]
  },
  {
   "cell_type": "code",
   "execution_count": 3,
   "metadata": {},
   "outputs": [],
   "source": [
    "def resize(images, size = (50,50)):\n",
    "    images_norm = []\n",
    "    for image in images:\n",
    "        if image.shape < size:\n",
    "            image_norm = cv2.resize(image,size,\n",
    "                                   interpolation = cv2.INTER_AREA)\n",
    "        else:\n",
    "            image_norm = cv2.resize(image,size,\n",
    "                                   interpolation = cv2.INTER_CUBIC)\n",
    "        images_norm.append(image_norm)\n",
    "    return images_norm"
   ]
  },
  {
   "cell_type": "code",
   "execution_count": 4,
   "metadata": {},
   "outputs": [],
   "source": [
    "def cut_faces(image,faces_coord):\n",
    "    faces = []\n",
    "    \n",
    "    for (x,y,w,h) in faces_coord:\n",
    "        w_rm = int(0.2 * w/2)\n",
    "        faces.append(image[y: y+h,x + w_rm:x + w - w_rm])\n",
    "    return faces"
   ]
  },
  {
   "cell_type": "code",
   "execution_count": 5,
   "metadata": {},
   "outputs": [],
   "source": [
    "def normalize_faces(frame,faces_coord):\n",
    "    faces = cut_faces(frame,faces_coord)\n",
    "    faces = normalize_intensity(faces)\n",
    "    faces = resize(faces)\n",
    "    return faces\n",
    "\n",
    "def draw_rectangle(image, coords):\n",
    "    for ( x, y, w, h) in coords:\n",
    "        w_rm = int(0.2* w/2)\n",
    "        cv2.rectangle(image, (x + w_rm,y), (x+ w - w_rm,y+h),\n",
    "                             (150,150,0),8)"
   ]
  },
  {
   "cell_type": "code",
   "execution_count": 6,
   "metadata": {},
   "outputs": [],
   "source": [
    "def collect_dataset():\n",
    "    images =[]\n",
    "    labels = []\n",
    "    labels_dic={}\n",
    "    people = [person for person in os.listdir(\"add the path of your people file\")]\n",
    "    people.remove('.DS_Store')\n",
    "    for i, person in enumerate(people):\n",
    "        labels_dic[i] = person\n",
    "        for image in os.listdir(\"add the path of your people file\" + person):\n",
    "            images.append(cv2.imread(\"add the path of your people file\" + person + '/' + image,0))\n",
    "            \n",
    "            labels.append(i)\n",
    "            \n",
    "    return (images, np.array(labels),labels_dic)"
   ]
  },
  {
   "cell_type": "code",
   "execution_count": 7,
   "metadata": {},
   "outputs": [],
   "source": [
    "images,labels,labels_dic = collect_dataset()"
   ]
  },
  {
   "cell_type": "code",
   "execution_count": 8,
   "metadata": {},
   "outputs": [],
   "source": [
    "rec_eig = cv2.face.EigenFaceRecognizer_create()\n",
    "rec_eig.train(images,labels)\n",
    "\n",
    "rec_fisher = cv2.face.FisherFaceRecognizer_create()\n",
    "rec_fisher.train(images, labels)\n",
    "\n",
    "rec_lbph = cv2.face.LBPHFaceRecognizer_create()\n",
    "rec_lbph.train(images,labels)"
   ]
  },
  {
   "cell_type": "code",
   "execution_count": null,
   "metadata": {},
   "outputs": [
    {
     "name": "stdout",
     "output_type": "stream",
     "text": [
      "Prediction: Spyros\n",
      "Confidence: 148.9\n"
     ]
    }
   ],
   "source": [
    "face_cascade = cv2.CascadeClassifier('path for >>> haarcascade_frontalface_default.xml')\n",
    "\n",
    "# eye_cascade = cv2.CascadeClassifier('/Users/spyroschouliaras/Downloads/haarcascade_eye.xml')\n",
    "\n",
    "# cap = cv2.VideoCapture(0)\n",
    "webcam = VideoCamera(0)\n",
    "\n",
    "while 1:\n",
    "    frame = webcam.get_frame()\n",
    "    gray = cv2.cvtColor(frame, cv2.COLOR_BGR2GRAY)\n",
    "    faces_coord = face_cascade.detectMultiScale(gray,1.3,5)\n",
    "    if len(faces_coord):\n",
    "        faces = normalize_faces(frame,faces_coord)\n",
    "        for i, face in enumerate(faces):\n",
    "            collector = cv2.face.StandardCollector_create()\n",
    "            rec_lbph.predict_collect(face,collector)\n",
    "            conf = round(collector.getMinDist(),2)\n",
    "            pred = collector.getMinLabel()\n",
    "            threshold = 140\n",
    "            print(\"Prediction: \" + labels_dic[pred].capitalize())\n",
    "            print(\"Confidence: \" + str(conf))\n",
    "            cv2.putText(frame, labels_dic[pred].capitalize(),\n",
    "                       (faces_coord[i][0],faces_coord[i][1]-10),\n",
    "                       cv2.FONT_HERSHEY_PLAIN,3,(66,53,243),2)\n",
    "            cv2.putText(frame,\"ESC to exit\",(5,frame.shape[0]-5),\n",
    "                       cv2.FONT_HERSHEY_PLAIN,1.3,(66,53,243),2,cv2.LINE_AA)\n",
    "        display.clear_output(wait = True)\n",
    "        draw_rectangle(frame,faces_coord)\n",
    "    cv2.imshow(\"PyData Tutorial\",frame)\n",
    "    k = cv2.waitKey(40) & 0xff\n",
    "    if k == 27:\n",
    "        break\n",
    "\n",
    "cap.release()\n",
    "cv2.destr"
   ]
  },
  {
   "cell_type": "code",
   "execution_count": null,
   "metadata": {},
   "outputs": [],
   "source": []
  }
 ],
 "metadata": {
  "kernelspec": {
   "display_name": "Python 3",
   "language": "python",
   "name": "python3"
  },
  "language_info": {
   "codemirror_mode": {
    "name": "ipython",
    "version": 3
   },
   "file_extension": ".py",
   "mimetype": "text/x-python",
   "name": "python",
   "nbconvert_exporter": "python",
   "pygments_lexer": "ipython3",
   "version": "3.7.2"
  }
 },
 "nbformat": 4,
 "nbformat_minor": 2
}
